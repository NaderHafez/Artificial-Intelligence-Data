{
  "cells": [
    {
      "cell_type": "code",
      "execution_count": null,
      "metadata": {
        "id": "AaF_5HC385c-"
      },
      "outputs": [],
      "source": [
        "import pandas as pd\n",
        "import matplotlib.pyplot as plt\n",
        "from keras.models import Sequential\n",
        "from keras.layers import Dense\n",
        "from sklearn.metrics import r2_score"
      ]
    },
    {
      "cell_type": "code",
      "execution_count": null,
      "metadata": {
        "colab": {
          "base_uri": "https://localhost:8080/"
        },
        "id": "zIDUUimg86kb",
        "outputId": "d7dfddb5-aea7-40c0-c92e-470b22a5f052"
      },
      "outputs": [
        {
          "data": {
            "text/plain": [
              "0      1.1\n",
              "1      1.3\n",
              "2      1.5\n",
              "3      2.0\n",
              "4      2.2\n",
              "5      2.9\n",
              "6      3.0\n",
              "7      3.2\n",
              "8      3.2\n",
              "9      3.7\n",
              "10     3.9\n",
              "11     4.0\n",
              "12     4.0\n",
              "13     4.1\n",
              "14     4.5\n",
              "15     4.9\n",
              "16     5.1\n",
              "17     5.3\n",
              "18     5.9\n",
              "19     6.0\n",
              "20     6.8\n",
              "21     7.1\n",
              "22     7.9\n",
              "23     8.2\n",
              "24     8.7\n",
              "25     9.0\n",
              "26     9.5\n",
              "27     9.6\n",
              "28    10.3\n",
              "29    10.5\n",
              "Name: YearsExperience, dtype: float64"
            ]
          },
          "execution_count": 57,
          "metadata": {},
          "output_type": "execute_result"
        }
      ],
      "source": [
        "df = pd.read_csv('Salary.csv')\n",
        "x = df.iloc[:,0]\n",
        "x"
      ]
    },
    {
      "cell_type": "code",
      "execution_count": null,
      "metadata": {
        "colab": {
          "base_uri": "https://localhost:8080/"
        },
        "id": "OjOrN7D59RGK",
        "outputId": "b6b96a4d-87b1-441c-e3c0-0dfedfb0914a"
      },
      "outputs": [
        {
          "data": {
            "text/plain": [
              "0      39343.0\n",
              "1      46205.0\n",
              "2      37731.0\n",
              "3      43525.0\n",
              "4      39891.0\n",
              "5      56642.0\n",
              "6      60150.0\n",
              "7      54445.0\n",
              "8      64445.0\n",
              "9      57189.0\n",
              "10     63218.0\n",
              "11     55794.0\n",
              "12     56957.0\n",
              "13     57081.0\n",
              "14     61111.0\n",
              "15     67938.0\n",
              "16     66029.0\n",
              "17     83088.0\n",
              "18     81363.0\n",
              "19     93940.0\n",
              "20     91738.0\n",
              "21     98273.0\n",
              "22    101302.0\n",
              "23    113812.0\n",
              "24    109431.0\n",
              "25    105582.0\n",
              "26    116969.0\n",
              "27    112635.0\n",
              "28    122391.0\n",
              "29    121872.0\n",
              "Name: Salary, dtype: float64"
            ]
          },
          "execution_count": 58,
          "metadata": {},
          "output_type": "execute_result"
        }
      ],
      "source": [
        "y=df.iloc[:,1]\n",
        "y"
      ]
    },
    {
      "cell_type": "code",
      "execution_count": null,
      "metadata": {
        "id": "kQ71GLRQ9Vah"
      },
      "outputs": [],
      "source": [
        "model = Sequential()\n",
        "model.add(Dense (1, activation = 'linear',input_dim=1))"
      ]
    },
    {
      "cell_type": "code",
      "execution_count": null,
      "metadata": {
        "id": "ibNI6WZH9lNY"
      },
      "outputs": [],
      "source": [
        "model.compile(loss='mse', optimizer='sgd')"
      ]
    },
    {
      "cell_type": "code",
      "execution_count": null,
      "metadata": {
        "colab": {
          "base_uri": "https://localhost:8080/"
        },
        "id": "ZnvbVz7pGlQ9",
        "outputId": "f9522dee-fd70-4bb5-df18-bc0a1fd1371b"
      },
      "outputs": [
        {
          "name": "stdout",
          "output_type": "stream",
          "text": [
            "Model: \"sequential_4\"\n",
            "_________________________________________________________________\n",
            " Layer (type)                Output Shape              Param #   \n",
            "=================================================================\n",
            " dense_4 (Dense)             (None, 1)                 2         \n",
            "                                                                 \n",
            "=================================================================\n",
            "Total params: 2 (8.00 Byte)\n",
            "Trainable params: 2 (8.00 Byte)\n",
            "Non-trainable params: 0 (0.00 Byte)\n",
            "_________________________________________________________________\n"
          ]
        }
      ],
      "source": [
        "model.summary()"
      ]
    },
    {
      "cell_type": "code",
      "execution_count": null,
      "metadata": {
        "colab": {
          "base_uri": "https://localhost:8080/"
        },
        "id": "46mKhX-D9tVw",
        "outputId": "0a632e16-4e00-4bf0-ec7e-b6538975ddc5"
      },
      "outputs": [
        {
          "name": "stdout",
          "output_type": "stream",
          "text": [
            "Epoch 1/50\n",
            "6/6 [==============================] - 0s 3ms/step - loss: 2205853952.0000\n",
            "Epoch 2/50\n",
            "6/6 [==============================] - 0s 2ms/step - loss: 195284896.0000\n",
            "Epoch 3/50\n",
            "6/6 [==============================] - 0s 2ms/step - loss: 145095584.0000\n",
            "Epoch 4/50\n",
            "6/6 [==============================] - 0s 3ms/step - loss: 159481488.0000\n",
            "Epoch 5/50\n",
            "6/6 [==============================] - 0s 3ms/step - loss: 155511408.0000\n",
            "Epoch 6/50\n",
            "6/6 [==============================] - 0s 3ms/step - loss: 148607744.0000\n",
            "Epoch 7/50\n",
            "6/6 [==============================] - 0s 3ms/step - loss: 131213896.0000\n",
            "Epoch 8/50\n",
            "6/6 [==============================] - 0s 5ms/step - loss: 155212256.0000\n",
            "Epoch 9/50\n",
            "6/6 [==============================] - 0s 4ms/step - loss: 132214128.0000\n",
            "Epoch 10/50\n",
            "6/6 [==============================] - 0s 3ms/step - loss: 111438816.0000\n",
            "Epoch 11/50\n",
            "6/6 [==============================] - 0s 2ms/step - loss: 107717624.0000\n",
            "Epoch 12/50\n",
            "6/6 [==============================] - 0s 2ms/step - loss: 105131560.0000\n",
            "Epoch 13/50\n",
            "6/6 [==============================] - 0s 2ms/step - loss: 120203248.0000\n",
            "Epoch 14/50\n",
            "6/6 [==============================] - 0s 8ms/step - loss: 113838608.0000\n",
            "Epoch 15/50\n",
            "6/6 [==============================] - 0s 9ms/step - loss: 99958864.0000\n",
            "Epoch 16/50\n",
            "6/6 [==============================] - 0s 2ms/step - loss: 120966952.0000\n",
            "Epoch 17/50\n",
            "6/6 [==============================] - 0s 7ms/step - loss: 98023424.0000\n",
            "Epoch 18/50\n",
            "6/6 [==============================] - 0s 8ms/step - loss: 92637024.0000\n",
            "Epoch 19/50\n",
            "6/6 [==============================] - 0s 7ms/step - loss: 85641336.0000\n",
            "Epoch 20/50\n",
            "6/6 [==============================] - 0s 10ms/step - loss: 94416656.0000\n",
            "Epoch 21/50\n",
            "6/6 [==============================] - 0s 9ms/step - loss: 86775328.0000\n",
            "Epoch 22/50\n",
            "6/6 [==============================] - 0s 9ms/step - loss: 77480272.0000\n",
            "Epoch 23/50\n",
            "6/6 [==============================] - 0s 9ms/step - loss: 74919560.0000\n",
            "Epoch 24/50\n",
            "6/6 [==============================] - 0s 7ms/step - loss: 88276072.0000\n",
            "Epoch 25/50\n",
            "6/6 [==============================] - 0s 3ms/step - loss: 77332008.0000\n",
            "Epoch 26/50\n",
            "6/6 [==============================] - 0s 3ms/step - loss: 79266600.0000\n",
            "Epoch 27/50\n",
            "6/6 [==============================] - 0s 3ms/step - loss: 80995152.0000\n",
            "Epoch 28/50\n",
            "6/6 [==============================] - 0s 3ms/step - loss: 65555720.0000\n",
            "Epoch 29/50\n",
            "6/6 [==============================] - 0s 3ms/step - loss: 63761228.0000\n",
            "Epoch 30/50\n",
            "6/6 [==============================] - 0s 3ms/step - loss: 74689664.0000\n",
            "Epoch 31/50\n",
            "6/6 [==============================] - 0s 4ms/step - loss: 59303536.0000\n",
            "Epoch 32/50\n",
            "6/6 [==============================] - 0s 2ms/step - loss: 64186564.0000\n",
            "Epoch 33/50\n",
            "6/6 [==============================] - 0s 2ms/step - loss: 62141264.0000\n",
            "Epoch 34/50\n",
            "6/6 [==============================] - 0s 2ms/step - loss: 70329256.0000\n",
            "Epoch 35/50\n",
            "6/6 [==============================] - 0s 2ms/step - loss: 71002592.0000\n",
            "Epoch 36/50\n",
            "6/6 [==============================] - 0s 2ms/step - loss: 57543304.0000\n",
            "Epoch 37/50\n",
            "6/6 [==============================] - 0s 2ms/step - loss: 53941980.0000\n",
            "Epoch 38/50\n",
            "6/6 [==============================] - 0s 2ms/step - loss: 50270856.0000\n",
            "Epoch 39/50\n",
            "6/6 [==============================] - 0s 2ms/step - loss: 54880112.0000\n",
            "Epoch 40/50\n",
            "6/6 [==============================] - 0s 2ms/step - loss: 65064208.0000\n",
            "Epoch 41/50\n",
            "6/6 [==============================] - 0s 2ms/step - loss: 51549720.0000\n",
            "Epoch 42/50\n",
            "6/6 [==============================] - 0s 2ms/step - loss: 54673724.0000\n",
            "Epoch 43/50\n",
            "6/6 [==============================] - 0s 2ms/step - loss: 54491740.0000\n",
            "Epoch 44/50\n",
            "6/6 [==============================] - 0s 3ms/step - loss: 50236528.0000\n",
            "Epoch 45/50\n",
            "6/6 [==============================] - 0s 2ms/step - loss: 55405048.0000\n",
            "Epoch 46/50\n",
            "6/6 [==============================] - 0s 2ms/step - loss: 45178268.0000\n",
            "Epoch 47/50\n",
            "6/6 [==============================] - 0s 2ms/step - loss: 52176388.0000\n",
            "Epoch 48/50\n",
            "6/6 [==============================] - 0s 2ms/step - loss: 48581740.0000\n",
            "Epoch 49/50\n",
            "6/6 [==============================] - 0s 2ms/step - loss: 52358592.0000\n",
            "Epoch 50/50\n",
            "6/6 [==============================] - 0s 2ms/step - loss: 47502636.0000\n"
          ]
        }
      ],
      "source": [
        "res = model.fit(x ,y, epochs=50, verbose=1, batch_size=5)"
      ]
    },
    {
      "cell_type": "code",
      "execution_count": null,
      "metadata": {
        "colab": {
          "base_uri": "https://localhost:8080/"
        },
        "id": "82TGjZ69_p99",
        "outputId": "79d8e30a-6692-43c5-9aab-d3309fe18942"
      },
      "outputs": [
        {
          "name": "stderr",
          "output_type": "stream",
          "text": [
            "WARNING:tensorflow:5 out of the last 6 calls to <function Model.make_predict_function.<locals>.predict_function at 0x7832c2219ab0> triggered tf.function retracing. Tracing is expensive and the excessive number of tracings could be due to (1) creating @tf.function repeatedly in a loop, (2) passing tensors with different shapes, (3) passing Python objects instead of tensors. For (1), please define your @tf.function outside of the loop. For (2), @tf.function has reduce_retracing=True option that can avoid unnecessary retracing. For (3), please refer to https://www.tensorflow.org/guide/function#controlling_retracing and https://www.tensorflow.org/api_docs/python/tf/function for  more details.\n"
          ]
        },
        {
          "name": "stdout",
          "output_type": "stream",
          "text": [
            "1/1 [==============================] - 0s 45ms/step\n"
          ]
        }
      ],
      "source": [
        "y_pred = model.predict(x)"
      ]
    },
    {
      "cell_type": "code",
      "execution_count": null,
      "metadata": {
        "colab": {
          "base_uri": "https://localhost:8080/"
        },
        "id": "3EOOkP42AGDX",
        "outputId": "acf25d81-5237-4e66-8332-11705cb35f85"
      },
      "outputs": [
        {
          "name": "stdout",
          "output_type": "stream",
          "text": [
            "0.9434564150270623\n"
          ]
        }
      ],
      "source": [
        "# accuracy\n",
        "print(r2_score(y,y_pred))"
      ]
    },
    {
      "cell_type": "code",
      "execution_count": null,
      "metadata": {
        "colab": {
          "base_uri": "https://localhost:8080/",
          "height": 447
        },
        "id": "to7bFmLYBt8j",
        "outputId": "32c8aa51-80a5-46aa-d40c-0a93b2153cc6"
      },
      "outputs": [
        {
          "data": {
            "text/plain": [
              "[<matplotlib.lines.Line2D at 0x7832c0a15e40>]"
            ]
          },
          "execution_count": 65,
          "metadata": {},
          "output_type": "execute_result"
        },
        {
          "data": {
            "image/png": "[encoded data removed]",
            "text/plain": [
              "<Figure size 640x480 with 1 Axes>"
            ]
          },
          "metadata": {},
          "output_type": "display_data"
        }
      ],
      "source": [
        "plt.scatter(x,y,c='r')\n",
        "plt.plot(x, y_pred,c='g')\n"
      ]
    },
    {
      "cell_type": "code",
      "execution_count": null,
      "metadata": {
        "colab": {
          "base_uri": "https://localhost:8080/",
          "height": 445
        },
        "id": "NQED8rJ09_gf",
        "outputId": "4f6d67c1-b59d-4495-d38f-83643433add7"
      },
      "outputs": [
        {
          "data": {
            "image/png": "[encoded data removed]",
            "text/plain": [
              "<Figure size 640x480 with 1 Axes>"
            ]
          },
          "metadata": {},
          "output_type": "display_data"
        }
      ],
      "source": [
        "plt.plot(res.history['loss'])\n",
        "plt.show()"
      ]
    }
  ],
  "metadata": {
    "colab": {
      "authorship_tag": "ABX9TyNOxGlhevrtbFo0pD5jrBDR",
      "include_colab_link": true,
      "provenance": []
    },
    "kernelspec": {
      "display_name": "Python 3",
      "name": "python3"
    },
    "language_info": {
      "name": "python"
    }
  },
  "nbformat": 4,
  "nbformat_minor": 0
}
