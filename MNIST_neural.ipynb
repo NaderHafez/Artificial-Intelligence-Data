{
  "cells": [
    {
      "cell_type": "code",
      "execution_count": null,
      "metadata": {
        "id": "9A9X86LTPAjY"
      },
      "outputs": [],
      "source": [
        "from keras.datasets import mnist\n",
        "from sklearn.linear_model import LogisticRegression\n",
        "import matplotlib.pyplot as plt\n",
        "from keras.models import Sequential\n",
        "import keras\n",
        "from keras.layers import Dense\n",
        "from sklearn.metrics import r2_score\n",
        "from sklearn.metrics import mean_squared_error\n",
        "from sklearn.preprocessing import MinMaxScaler"
      ]
    },
    {
      "cell_type": "code",
      "execution_count": null,
      "metadata": {
        "colab": {
          "base_uri": "https://localhost:8080/"
        },
        "id": "ozFdUKjrPQkQ",
        "outputId": "72742cb1-a191-4c6f-d355-f1f7ce5f5b97"
      },
      "outputs": [
        {
          "name": "stdout",
          "output_type": "stream",
          "text": [
            "Downloading data from https://storage.googleapis.com/tensorflow/tf-keras-datasets/mnist.npz\n",
            "11490434/11490434 [==============================] - 0s 0us/step\n"
          ]
        }
      ],
      "source": [
        "(x_train, y_train), (x_test, y_test) = mnist.load_data()"
      ]
    },
    {
      "cell_type": "code",
      "execution_count": null,
      "metadata": {
        "colab": {
          "base_uri": "https://localhost:8080/"
        },
        "id": "SLsTCqnePagW",
        "outputId": "bdd06fb1-9cf9-4655-d677-7001fcce1b6f"
      },
      "outputs": [
        {
          "data": {
            "text/plain": [
              "(12665, 28, 28)"
            ]
          },
          "execution_count": 3,
          "metadata": {},
          "output_type": "execute_result"
        }
      ],
      "source": [
        "#we create new variables that contain only zeros and ones.\n",
        "x_train_binary= x_train[(y_train==0) | (y_train==1)]\n",
        "y_train_binary= y_train[(y_train==0) | (y_train==1)]\n",
        "\n",
        "#Let’s check the shape of the new variables.\n",
        "x_train_binary.shape"
      ]
    },
    {
      "cell_type": "code",
      "execution_count": null,
      "metadata": {
        "colab": {
          "base_uri": "https://localhost:8080/"
        },
        "id": "rVnLKrznQXPX",
        "outputId": "6fcdda9f-c12e-48bb-d0b0-743fa300533e"
      },
      "outputs": [
        {
          "data": {
            "text/plain": [
              "(12665,)"
            ]
          },
          "execution_count": 4,
          "metadata": {},
          "output_type": "execute_result"
        }
      ],
      "source": [
        "y_train_binary.shape"
      ]
    },
    {
      "cell_type": "code",
      "execution_count": null,
      "metadata": {
        "colab": {
          "base_uri": "https://localhost:8080/"
        },
        "id": "AnZndnaqPilu",
        "outputId": "a6590f74-6b6f-4c9f-fb8b-96dc8ad0484b"
      },
      "outputs": [
        {
          "data": {
            "text/plain": [
              "(12665, 784)"
            ]
          },
          "execution_count": 5,
          "metadata": {},
          "output_type": "execute_result"
        }
      ],
      "source": [
        "#we need to flatten data into two dimensions only: (28 * 28 = 784).\n",
        "\n",
        "x_train_final = x_train_binary.reshape((-1, 784))\n",
        "x_train_final.shape"
      ]
    },
    {
      "cell_type": "code",
      "execution_count": null,
      "metadata": {
        "colab": {
          "base_uri": "https://localhost:8080/"
        },
        "id": "10pYIoElPk_d",
        "outputId": "6a13cc04-bd08-4a6c-85d0-e4b0fd52e93f"
      },
      "outputs": [
        {
          "data": {
            "text/plain": [
              "(2115, 28, 28)"
            ]
          },
          "execution_count": 6,
          "metadata": {},
          "output_type": "execute_result"
        }
      ],
      "source": [
        "#A similar sequence of operations we perform for the test set.\n",
        "\n",
        "x_test_binary= x_test[(y_test==0) | (y_test==1)]\n",
        "y_test_binary= y_test[(y_test==0) | (y_test==1)]\n",
        "x_test_binary.shape"
      ]
    },
    {
      "cell_type": "code",
      "execution_count": null,
      "metadata": {
        "colab": {
          "base_uri": "https://localhost:8080/"
        },
        "id": "FGFIwlKGPm8k",
        "outputId": "3b370f17-563c-4be1-a0cc-7221cdb0a39d"
      },
      "outputs": [
        {
          "data": {
            "text/plain": [
              "(2115, 784)"
            ]
          },
          "execution_count": 7,
          "metadata": {},
          "output_type": "execute_result"
        }
      ],
      "source": [
        "x_test_final = x_test_binary.reshape((-1, 784))\n",
        "x_test_final.shape"
      ]
    },
    {
      "cell_type": "code",
      "execution_count": null,
      "metadata": {
        "id": "alAh62R7Po9l"
      },
      "outputs": [],
      "source": [
        "#The last element of data preprocessing is their normalization.\n",
        "\n",
        "x_train_final = x_train_final / 255\n",
        "x_test_final = x_test_final / 255"
      ]
    },
    {
      "cell_type": "code",
      "execution_count": null,
      "metadata": {
        "id": "ZWI5sS42PtZd"
      },
      "outputs": [],
      "source": [
        "model = Sequential()"
      ]
    },
    {
      "cell_type": "code",
      "execution_count": null,
      "metadata": {
        "id": "zDgRtUJgPyMN"
      },
      "outputs": [],
      "source": [
        "model.add(Dense (16, activation = 'relu', input_dim=784))\n",
        "model.add(Dense (4 ,activation = 'ReLU'))\n",
        "model.add(Dense (1,  activation = 'sigmoid' ))"
      ]
    },
    {
      "cell_type": "code",
      "execution_count": null,
      "metadata": {
        "colab": {
          "base_uri": "https://localhost:8080/"
        },
        "id": "oK1TAhJiPzok",
        "outputId": "fb38a573-81b1-4dd4-985b-8032e13de117"
      },
      "outputs": [
        {
          "name": "stdout",
          "output_type": "stream",
          "text": [
            "Model: \"sequential\"\n",
            "_________________________________________________________________\n",
            " Layer (type)                Output Shape              Param #   \n",
            "=================================================================\n",
            " dense (Dense)               (None, 16)                12560     \n",
            "                                                                 \n",
            " dense_1 (Dense)             (None, 4)                 68        \n",
            "                                                                 \n",
            " dense_2 (Dense)             (None, 1)                 5         \n",
            "                                                                 \n",
            "=================================================================\n",
            "Total params: 12633 (49.35 KB)\n",
            "Trainable params: 12633 (49.35 KB)\n",
            "Non-trainable params: 0 (0.00 Byte)\n",
            "_________________________________________________________________\n"
          ]
        }
      ],
      "source": [
        "model.summary()"
      ]
    },
    {
      "cell_type": "code",
      "execution_count": null,
      "metadata": {
        "id": "Y7KMfK87QCg7"
      },
      "outputs": [],
      "source": [
        "model.compile(optimizer='sgd',loss='BinaryCrossentropy', metrics='accuracy')"
      ]
    },
    {
      "cell_type": "code",
      "execution_count": null,
      "metadata": {
        "colab": {
          "base_uri": "https://localhost:8080/"
        },
        "id": "5bZkjNu-Um7I",
        "outputId": "8a7562a8-31a8-4337-cd7c-6e85a3538621"
      },
      "outputs": [
        {
          "data": {
            "text/plain": [
              "(12665, 784)"
            ]
          },
          "execution_count": 13,
          "metadata": {},
          "output_type": "execute_result"
        }
      ],
      "source": [
        "x_train_final.shape"
      ]
    },
    {
      "cell_type": "code",
      "execution_count": null,
      "metadata": {
        "colab": {
          "base_uri": "https://localhost:8080/"
        },
        "id": "9uA1_TUrQEq8",
        "outputId": "0153b620-1686-4c2a-884d-0d5aaadce163"
      },
      "outputs": [
        {
          "name": "stdout",
          "output_type": "stream",
          "text": [
            "Epoch 1/100\n",
            "1267/1267 [==============================] - 5s 3ms/step - loss: 0.0694 - accuracy: 0.9873\n",
            "Epoch 2/100\n",
            "1267/1267 [==============================] - 4s 3ms/step - loss: 0.0070 - accuracy: 0.9983\n",
            "Epoch 3/100\n",
            "1267/1267 [==============================] - 4s 3ms/step - loss: 0.0051 - accuracy: 0.9986\n",
            "Epoch 4/100\n",
            "1267/1267 [==============================] - 2s 2ms/step - loss: 0.0044 - accuracy: 0.9988\n",
            "Epoch 5/100\n",
            "1267/1267 [==============================] - 3s 2ms/step - loss: 0.0037 - accuracy: 0.9991\n",
            "Epoch 6/100\n",
            "1267/1267 [==============================] - 3s 2ms/step - loss: 0.0035 - accuracy: 0.9990\n",
            "Epoch 7/100\n",
            "1267/1267 [==============================] - 2s 2ms/step - loss: 0.0032 - accuracy: 0.9991\n",
            "Epoch 8/100\n",
            "1267/1267 [==============================] - 2s 2ms/step - loss: 0.0030 - accuracy: 0.9992\n",
            "Epoch 9/100\n",
            "1267/1267 [==============================] - 2s 2ms/step - loss: 0.0028 - accuracy: 0.9992\n",
            "Epoch 10/100\n",
            "1267/1267 [==============================] - 2s 2ms/step - loss: 0.0026 - accuracy: 0.9993\n",
            "Epoch 11/100\n",
            "1267/1267 [==============================] - 3s 2ms/step - loss: 0.0024 - accuracy: 0.9994\n",
            "Epoch 12/100\n",
            "1267/1267 [==============================] - 2s 2ms/step - loss: 0.0023 - accuracy: 0.9994\n",
            "Epoch 13/100\n",
            "1267/1267 [==============================] - 2s 2ms/step - loss: 0.0022 - accuracy: 0.9994\n",
            "Epoch 14/100\n",
            "1267/1267 [==============================] - 2s 2ms/step - loss: 0.0020 - accuracy: 0.9995\n",
            "Epoch 15/100\n",
            "1267/1267 [==============================] - 2s 2ms/step - loss: 0.0019 - accuracy: 0.9994\n",
            "Epoch 16/100\n",
            "1267/1267 [==============================] - 2s 2ms/step - loss: 0.0017 - accuracy: 0.9995\n",
            "Epoch 17/100\n",
            "1267/1267 [==============================] - 3s 2ms/step - loss: 0.0017 - accuracy: 0.9997\n",
            "Epoch 18/100\n",
            "1267/1267 [==============================] - 2s 2ms/step - loss: 0.0016 - accuracy: 0.9995\n",
            "Epoch 19/100\n",
            "1267/1267 [==============================] - 2s 2ms/step - loss: 0.0015 - accuracy: 0.9997\n",
            "Epoch 20/100\n",
            "1267/1267 [==============================] - 2s 2ms/step - loss: 0.0015 - accuracy: 0.9995\n",
            "Epoch 21/100\n",
            "1267/1267 [==============================] - 2s 2ms/step - loss: 0.0014 - accuracy: 0.9997\n",
            "Epoch 22/100\n",
            "1267/1267 [==============================] - 3s 2ms/step - loss: 0.0013 - accuracy: 0.9996\n",
            "Epoch 23/100\n",
            "1267/1267 [==============================] - 2s 2ms/step - loss: 0.0013 - accuracy: 0.9997\n",
            "Epoch 24/100\n",
            "1267/1267 [==============================] - 2s 2ms/step - loss: 0.0012 - accuracy: 0.9997\n",
            "Epoch 25/100\n",
            "1267/1267 [==============================] - 2s 2ms/step - loss: 0.0012 - accuracy: 0.9998\n",
            "Epoch 26/100\n",
            "1267/1267 [==============================] - 2s 2ms/step - loss: 0.0011 - accuracy: 0.9999\n",
            "Epoch 27/100\n",
            "1267/1267 [==============================] - 2s 2ms/step - loss: 0.0010 - accuracy: 0.9999\n",
            "Epoch 28/100\n",
            "1267/1267 [==============================] - 3s 2ms/step - loss: 9.9746e-04 - accuracy: 0.9998\n",
            "Epoch 29/100\n",
            "1267/1267 [==============================] - 2s 2ms/step - loss: 9.7014e-04 - accuracy: 0.9998\n",
            "Epoch 30/100\n",
            "1267/1267 [==============================] - 2s 2ms/step - loss: 9.2775e-04 - accuracy: 0.9999\n",
            "Epoch 31/100\n",
            "1267/1267 [==============================] - 2s 2ms/step - loss: 9.0310e-04 - accuracy: 0.9999\n",
            "Epoch 32/100\n",
            "1267/1267 [==============================] - 2s 2ms/step - loss: 8.6435e-04 - accuracy: 0.9999\n",
            "Epoch 33/100\n",
            "1267/1267 [==============================] - 2s 2ms/step - loss: 8.2790e-04 - accuracy: 0.9999\n",
            "Epoch 34/100\n",
            "1267/1267 [==============================] - 3s 2ms/step - loss: 7.9562e-04 - accuracy: 0.9999\n",
            "Epoch 35/100\n",
            "1267/1267 [==============================] - 2s 2ms/step - loss: 7.6347e-04 - accuracy: 0.9999\n",
            "Epoch 36/100\n",
            "1267/1267 [==============================] - 2s 2ms/step - loss: 7.3506e-04 - accuracy: 0.9999\n",
            "Epoch 37/100\n",
            "1267/1267 [==============================] - 2s 2ms/step - loss: 7.1783e-04 - accuracy: 0.9999\n",
            "Epoch 38/100\n",
            "1267/1267 [==============================] - 2s 2ms/step - loss: 6.8974e-04 - accuracy: 0.9999\n",
            "Epoch 39/100\n",
            "1267/1267 [==============================] - 3s 2ms/step - loss: 6.6126e-04 - accuracy: 0.9999\n",
            "Epoch 40/100\n",
            "1267/1267 [==============================] - 3s 3ms/step - loss: 6.4697e-04 - accuracy: 0.9999\n",
            "Epoch 41/100\n",
            "1267/1267 [==============================] - 2s 2ms/step - loss: 6.2478e-04 - accuracy: 0.9999\n",
            "Epoch 42/100\n",
            "1267/1267 [==============================] - 2s 2ms/step - loss: 5.9366e-04 - accuracy: 0.9999\n",
            "Epoch 43/100\n",
            "1267/1267 [==============================] - 2s 2ms/step - loss: 5.8814e-04 - accuracy: 0.9999\n",
            "Epoch 44/100\n",
            "1267/1267 [==============================] - 2s 2ms/step - loss: 5.5754e-04 - accuracy: 0.9999\n",
            "Epoch 45/100\n",
            "1267/1267 [==============================] - 3s 2ms/step - loss: 5.2741e-04 - accuracy: 0.9999\n",
            "Epoch 46/100\n",
            "1267/1267 [==============================] - 2s 2ms/step - loss: 5.2439e-04 - accuracy: 0.9999\n",
            "Epoch 47/100\n",
            "1267/1267 [==============================] - 2s 2ms/step - loss: 5.0447e-04 - accuracy: 0.9999\n",
            "Epoch 48/100\n",
            "1267/1267 [==============================] - 2s 2ms/step - loss: 4.8250e-04 - accuracy: 0.9999\n",
            "Epoch 49/100\n",
            "1267/1267 [==============================] - 2s 2ms/step - loss: 4.5684e-04 - accuracy: 0.9999\n",
            "Epoch 50/100\n",
            "1267/1267 [==============================] - 2s 2ms/step - loss: 4.4932e-04 - accuracy: 0.9999\n",
            "Epoch 51/100\n",
            " 527/1267 [===========>..................] - ETA: 1s - loss: 2.8155e-04 - accuracy: 1.0000"
          ]
        }
      ],
      "source": [
        "res = model.fit(x_train_final, y_train_binary, epochs=100, verbose=1, batch_size=10)"
      ]
    },
    {
      "cell_type": "code",
      "execution_count": null,
      "metadata": {
        "id": "kzs593DKRZOm"
      },
      "outputs": [],
      "source": [
        "y_pred = model.predict(x_test_final)\n",
        "y_pred"
      ]
    },
    {
      "cell_type": "code",
      "execution_count": null,
      "metadata": {
        "id": "d8PxaJ0CRe-g"
      },
      "outputs": [],
      "source": [
        "# from sklearn.metrics import accuracy_score\n",
        "# accuracy_score(y_test_binary,y_pred)*100\n",
        "print(r2_score(y_test_binary,y_pred))"
      ]
    },
    {
      "cell_type": "code",
      "execution_count": null,
      "metadata": {
        "id": "gl_Rxi9Jqnqu"
      },
      "outputs": [],
      "source": [
        "model.save('mnist.h5')"
      ]
    }
  ],
  "metadata": {
    "colab": {
      "authorship_tag": "ABX9TyOCGRNj6z17PnJO9f+l10ws",
      "include_colab_link": true,
      "provenance": []
    },
    "kernelspec": {
      "display_name": "Python 3",
      "name": "python3"
    },
    "language_info": {
      "name": "python"
    }
  },
  "nbformat": 4,
  "nbformat_minor": 0
}
