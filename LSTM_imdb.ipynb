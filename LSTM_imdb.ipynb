{
  "cells": [
    {
      "cell_type": "code",
      "execution_count": null,
      "metadata": {
        "id": "vCNhtM2zVF8x"
      },
      "outputs": [],
      "source": [
        "import keras\n",
        "\n",
        "from keras.datasets import imdb\n",
        "\n",
        "from keras.utils import pad_sequences\n",
        "\n",
        "from keras.models import Sequential\n",
        "\n",
        "from keras.layers import Embedding ,Dense, LSTM\n",
        "\n",
        "from numpy import argmax"
      ]
    },
    {
      "cell_type": "code",
      "execution_count": null,
      "metadata": {
        "id": "ULpezrorVlbK"
      },
      "outputs": [],
      "source": [
        "max_review_length = 500\n",
        "top_words = 5000"
      ]
    },
    {
      "cell_type": "code",
      "execution_count": null,
      "metadata": {
        "colab": {
          "base_uri": "https://localhost:8080/"
        },
        "id": "YWntsk6QWEwD",
        "outputId": "d7d14c42-46b7-4d32-840c-63477f58f899"
      },
      "outputs": [
        {
          "name": "stdout",
          "output_type": "stream",
          "text": [
            "Downloading data from https://storage.googleapis.com/tensorflow/tf-keras-datasets/imdb.npz\n",
            "17464789/17464789 [==============================] - 0s 0us/step\n"
          ]
        }
      ],
      "source": [
        "(x_train, y_train), (x_test, y_test) = imdb.load_data(num_words = top_words)"
      ]
    },
    {
      "cell_type": "code",
      "execution_count": null,
      "metadata": {
        "colab": {
          "base_uri": "https://localhost:8080/"
        },
        "id": "t5fr0yePWbxU",
        "outputId": "3fc4b310-f491-42ae-d0f4-d87211090c2b"
      },
      "outputs": [
        {
          "data": {
            "text/plain": [
              "189"
            ]
          },
          "execution_count": 4,
          "metadata": {},
          "output_type": "execute_result"
        }
      ],
      "source": [
        "len(x_train[1])"
      ]
    },
    {
      "cell_type": "code",
      "execution_count": null,
      "metadata": {
        "id": "uKsAUwM3XUp2"
      },
      "outputs": [],
      "source": [
        "x_train = pad_sequences(x_train, maxlen=max_review_length)\n",
        "x_test = pad_sequences(x_test, maxlen=max_review_length)"
      ]
    },
    {
      "cell_type": "code",
      "execution_count": null,
      "metadata": {
        "colab": {
          "base_uri": "https://localhost:8080/"
        },
        "id": "VGdmyzmfXg_d",
        "outputId": "4f059b86-7df8-4e64-9ca6-e2e456869aab"
      },
      "outputs": [
        {
          "data": {
            "text/plain": [
              "500"
            ]
          },
          "execution_count": 6,
          "metadata": {},
          "output_type": "execute_result"
        }
      ],
      "source": [
        "len(x_train[1])"
      ]
    },
    {
      "cell_type": "code",
      "execution_count": null,
      "metadata": {
        "colab": {
          "base_uri": "https://localhost:8080/"
        },
        "id": "5RDU-915VirL",
        "outputId": "3ddfc039-14cc-46fe-b3c1-76eb3c2ba1f7"
      },
      "outputs": [
        {
          "name": "stdout",
          "output_type": "stream",
          "text": [
            "Model: \"sequential\"\n",
            "_________________________________________________________________\n",
            " Layer (type)                Output Shape              Param #   \n",
            "=================================================================\n",
            " embedding (Embedding)       (None, 500, 32)           160000    \n",
            "                                                                 \n",
            " lstm (LSTM)                 (None, 16)                3136      \n",
            "                                                                 \n",
            " dense (Dense)               (None, 1)                 17        \n",
            "                                                                 \n",
            "=================================================================\n",
            "Total params: 163153 (637.32 KB)\n",
            "Trainable params: 163153 (637.32 KB)\n",
            "Non-trainable params: 0 (0.00 Byte)\n",
            "_________________________________________________________________\n",
            "None\n"
          ]
        }
      ],
      "source": [
        "embedding_vector_length = 32\n",
        "\n",
        "model = Sequential()\n",
        "\n",
        "model.add(Embedding(top_words, embedding_vector_length, input_length=max_review_length))\n",
        "\n",
        "model.add(LSTM(16))\n",
        "\n",
        "model.add(Dense(1, activation='sigmoid'))\n",
        "\n",
        "model.compile(loss='binary_crossentropy', optimizer='adam', metrics=['accuracy'])\n",
        "\n",
        "print(model.summary())"
      ]
    },
    {
      "cell_type": "code",
      "execution_count": null,
      "metadata": {
        "colab": {
          "base_uri": "https://localhost:8080/"
        },
        "id": "KPvigUpBWkEg",
        "outputId": "80d196c2-60eb-41f3-c2b9-42b3aea2430b"
      },
      "outputs": [
        {
          "name": "stdout",
          "output_type": "stream",
          "text": [
            "Epoch 1/5\n",
            "782/782 [==============================] - 213s 262ms/step - loss: 0.4209 - accuracy: 0.8104 - val_loss: 0.3344 - val_accuracy: 0.8649\n",
            "Epoch 2/5\n",
            "782/782 [==============================] - 200s 256ms/step - loss: 0.2748 - accuracy: 0.8929 - val_loss: 0.2924 - val_accuracy: 0.8795\n",
            "Epoch 3/5\n",
            "782/782 [==============================] - 199s 254ms/step - loss: 0.2286 - accuracy: 0.9102 - val_loss: 0.3203 - val_accuracy: 0.8732\n",
            "Epoch 4/5\n",
            "782/782 [==============================] - 199s 254ms/step - loss: 0.1928 - accuracy: 0.9271 - val_loss: 0.3121 - val_accuracy: 0.8716\n",
            "Epoch 5/5\n",
            "782/782 [==============================] - 211s 270ms/step - loss: 0.1749 - accuracy: 0.9358 - val_loss: 0.3190 - val_accuracy: 0.8742\n"
          ]
        },
        {
          "data": {
            "text/plain": [
              "<keras.src.callbacks.History at 0x7992a0750a60>"
            ]
          },
          "execution_count": 8,
          "metadata": {},
          "output_type": "execute_result"
        }
      ],
      "source": [
        "model.fit(\n",
        "    x_train, y_train,\n",
        "    epochs=5,\n",
        "    validation_data=(x_test, y_test)\n",
        ")"
      ]
    },
    {
      "cell_type": "code",
      "execution_count": null,
      "metadata": {
        "colab": {
          "base_uri": "https://localhost:8080/"
        },
        "id": "4a7surhaWtx3",
        "outputId": "56e968e6-7b7f-481d-b2bc-4c8374b65081"
      },
      "outputs": [
        {
          "name": "stdout",
          "output_type": "stream",
          "text": [
            "782/782 [==============================] - 2s 2ms/step - loss: 0.0000e+00 - accuracy: 0.0000e+00\n"
          ]
        }
      ],
      "source": [
        "score = model.evaluate(x_test)"
      ]
    },
    {
      "cell_type": "code",
      "execution_count": null,
      "metadata": {
        "colab": {
          "base_uri": "https://localhost:8080/"
        },
        "id": "ueLFLtgeWvt5",
        "outputId": "3fd15866-ca40-48ce-8be1-a484a0d59d72"
      },
      "outputs": [
        {
          "name": "stdout",
          "output_type": "stream",
          "text": [
            "782/782 [==============================] - 35s 44ms/step\n"
          ]
        },
        {
          "data": {
            "text/plain": [
              "(25000, 1)"
            ]
          },
          "execution_count": 10,
          "metadata": {},
          "output_type": "execute_result"
        }
      ],
      "source": [
        "# prediction of our data\n",
        "y_pred=model.predict(x_test)\n",
        "y_pred.shape"
      ]
    },
    {
      "cell_type": "code",
      "execution_count": null,
      "metadata": {
        "colab": {
          "base_uri": "https://localhost:8080/"
        },
        "id": "Uc4BseZHW0PX",
        "outputId": "5bbcbb99-9c04-4147-9952-eae1c0f7a750"
      },
      "outputs": [
        {
          "data": {
            "text/plain": [
              "(25000,)"
            ]
          },
          "execution_count": 11,
          "metadata": {},
          "output_type": "execute_result"
        }
      ],
      "source": [
        "y_pred1=argmax(y_pred,axis=1)\n",
        "y_pred1.shape"
      ]
    }
  ],
  "metadata": {
    "colab": {
      "authorship_tag": "ABX9TyO1tjmD8aRhtaMxaLP/F1lt",
      "include_colab_link": true,
      "provenance": []
    },
    "kernelspec": {
      "display_name": "Python 3",
      "name": "python3"
    },
    "language_info": {
      "name": "python"
    }
  },
  "nbformat": 4,
  "nbformat_minor": 0
}
