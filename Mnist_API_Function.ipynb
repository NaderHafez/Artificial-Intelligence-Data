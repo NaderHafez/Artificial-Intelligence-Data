{
  "cells": [
    {
      "cell_type": "code",
      "execution_count": 3,
      "metadata": {
        "id": "pePmb6I5VZju"
      },
      "outputs": [],
      "source": [
        "from keras import  datasets\n",
        "from keras.layers import Input, Dense, Flatten\n",
        "from keras.models import Sequential\n",
        "from matplotlib import pyplot as plt\n",
        "from keras.src.engine.training import Model\n",
        "import numpy as np\n",
        "from numpy import argmax\n",
        "from sklearn.metrics import accuracy_score,  confusion_matrix"
      ]
    },
    {
      "cell_type": "code",
      "execution_count": 4,
      "metadata": {
        "colab": {
          "base_uri": "https://localhost:8080/"
        },
        "id": "Xm6ZjgqlV23H",
        "outputId": "145f26d7-3ae9-4a60-9e79-bb0ef5fe0a5b"
      },
      "outputs": [
        {
          "data": {
            "text/plain": [
              "array([5, 0, 4, ..., 5, 6, 8], dtype=uint8)"
            ]
          },
          "execution_count": 4,
          "metadata": {},
          "output_type": "execute_result"
        }
      ],
      "source": [
        "(x_train, y_train), (x_test, y_test) = datasets.mnist.load_data()\n",
        "\n",
        "#Normalize image pixel values.\n",
        "x_train = x_train/255\n",
        "x_test = x_test/255\n",
        "y_train"
      ]
    },
    {
      "cell_type": "code",
      "execution_count": 5,
      "metadata": {
        "colab": {
          "base_uri": "https://localhost:8080/"
        },
        "id": "aVaP-3GsVi7Z",
        "outputId": "6bb9780d-45b9-46a4-e2a7-c0bcb1511c46"
      },
      "outputs": [
        {
          "data": {
            "text/plain": [
              "array([0, 1, 2, 3, 4, 5, 6, 7, 8, 9], dtype=uint8)"
            ]
          },
          "execution_count": 5,
          "metadata": {},
          "output_type": "execute_result"
        }
      ],
      "source": [
        "np.unique(y_train)"
      ]
    },
    {
      "cell_type": "code",
      "execution_count": 6,
      "metadata": {
        "colab": {
          "base_uri": "https://localhost:8080/"
        },
        "id": "76wArsOHVrNw",
        "outputId": "0cefe346-85b8-4e47-80e3-1ceb33006dae"
      },
      "outputs": [
        {
          "name": "stdout",
          "output_type": "stream",
          "text": [
            "Model: \"mnist_model\"\n",
            "_________________________________________________________________\n",
            " Layer (type)                Output Shape              Param #   \n",
            "=================================================================\n",
            " input_1 (InputLayer)        [(None, 28, 28)]          0         \n",
            "                                                                 \n",
            " flatten (Flatten)           (None, 784)               0         \n",
            "                                                                 \n",
            " dense (Dense)               (None, 120)               94200     \n",
            "                                                                 \n",
            " dense_1 (Dense)             (None, 84)                10164     \n",
            "                                                                 \n",
            " name1 (Dense)               (None, 10)                850       \n",
            "                                                                 \n",
            "=================================================================\n",
            "Total params: 105214 (410.99 KB)\n",
            "Trainable params: 105214 (410.99 KB)\n",
            "Non-trainable params: 0 (0.00 Byte)\n",
            "_________________________________________________________________\n"
          ]
        }
      ],
      "source": [
        "input = Input(shape=(28,28))\n",
        "x1 = Flatten()(input)\n",
        "x2 = Dense(120, activation = 'tanh')(x1)\n",
        "x3 = Dense(84, activation = 'tanh')(x2)\n",
        "output = Dense(10, activation = 'softmax', name='name1')(x3)\n",
        "model = Model(inputs=input, outputs = output, name='mnist_model')\n",
        "model.summary()"
      ]
    },
    {
      "cell_type": "code",
      "execution_count": 7,
      "metadata": {
        "colab": {
          "base_uri": "https://localhost:8080/"
        },
        "id": "AYBXomNCV8jR",
        "outputId": "d4e83c3e-50e8-4827-d162-eff510f862d2"
      },
      "outputs": [
        {
          "name": "stdout",
          "output_type": "stream",
          "text": [
            "Epoch 1/10\n",
            "469/469 [==============================] - 4s 6ms/step - loss: 0.3436 - accuracy: 0.9028 - val_loss: 0.1915 - val_accuracy: 0.9436\n",
            "Epoch 2/10\n",
            "469/469 [==============================] - 3s 7ms/step - loss: 0.1620 - accuracy: 0.9528 - val_loss: 0.1332 - val_accuracy: 0.9596\n",
            "Epoch 3/10\n",
            "469/469 [==============================] - 2s 5ms/step - loss: 0.1140 - accuracy: 0.9657 - val_loss: 0.1050 - val_accuracy: 0.9665\n",
            "Epoch 4/10\n",
            "469/469 [==============================] - 2s 5ms/step - loss: 0.0846 - accuracy: 0.9745 - val_loss: 0.0924 - val_accuracy: 0.9730\n",
            "Epoch 5/10\n",
            "469/469 [==============================] - 2s 5ms/step - loss: 0.0660 - accuracy: 0.9800 - val_loss: 0.0840 - val_accuracy: 0.9735\n",
            "Epoch 6/10\n",
            "469/469 [==============================] - 3s 6ms/step - loss: 0.0517 - accuracy: 0.9845 - val_loss: 0.0757 - val_accuracy: 0.9764\n",
            "Epoch 7/10\n",
            "469/469 [==============================] - 3s 6ms/step - loss: 0.0414 - accuracy: 0.9874 - val_loss: 0.0814 - val_accuracy: 0.9743\n",
            "Epoch 8/10\n",
            "469/469 [==============================] - 2s 5ms/step - loss: 0.0321 - accuracy: 0.9910 - val_loss: 0.0753 - val_accuracy: 0.9768\n",
            "Epoch 9/10\n",
            "469/469 [==============================] - 2s 5ms/step - loss: 0.0267 - accuracy: 0.9931 - val_loss: 0.0842 - val_accuracy: 0.9743\n",
            "Epoch 10/10\n",
            "469/469 [==============================] - 2s 5ms/step - loss: 0.0212 - accuracy: 0.9943 - val_loss: 0.0735 - val_accuracy: 0.9774\n"
          ]
        }
      ],
      "source": [
        "model.compile(optimizer='Adam',loss=\"sparse_categorical_crossentropy\",metrics=['accuracy'])\n",
        "results= model.fit(x_train,y_train,epochs=10,batch_size=128,validation_data=(x_test, y_test))"
      ]
    },
    {
      "cell_type": "code",
      "execution_count": 8,
      "metadata": {
        "colab": {
          "base_uri": "https://localhost:8080/"
        },
        "id": "MBXzeCzpV-pf",
        "outputId": "3b620121-1421-4dde-c810-2252d8a9c0f2"
      },
      "outputs": [
        {
          "name": "stdout",
          "output_type": "stream",
          "text": [
            "313/313 [==============================] - 1s 2ms/step - loss: 0.0735 - accuracy: 0.9774\n"
          ]
        }
      ],
      "source": [
        "score = model.evaluate(x_test, y_test)"
      ]
    },
    {
      "cell_type": "code",
      "execution_count": 9,
      "metadata": {
        "colab": {
          "base_uri": "https://localhost:8080/"
        },
        "id": "Vy36Q7EWV_7F",
        "outputId": "92ec7e56-bca8-4358-c080-80f900022201"
      },
      "outputs": [
        {
          "name": "stdout",
          "output_type": "stream",
          "text": [
            "313/313 [==============================] - 1s 2ms/step\n"
          ]
        },
        {
          "data": {
            "text/plain": [
              "(10000, 10)"
            ]
          },
          "execution_count": 9,
          "metadata": {},
          "output_type": "execute_result"
        }
      ],
      "source": [
        "y_pred=model.predict(x_test)\n",
        "y_pred.shape"
      ]
    },
    {
      "cell_type": "code",
      "execution_count": 10,
      "metadata": {
        "id": "fGXJS4CLWCfJ"
      },
      "outputs": [],
      "source": [
        "y_pred1=argmax(y_pred,axis=1)"
      ]
    },
    {
      "cell_type": "code",
      "execution_count": 11,
      "metadata": {
        "colab": {
          "base_uri": "https://localhost:8080/"
        },
        "id": "iybDqiYzWGa3",
        "outputId": "33a03e04-6c61-4380-822d-0e5fbcd11b5f"
      },
      "outputs": [
        {
          "name": "stdout",
          "output_type": "stream",
          "text": [
            "[[ 965    0    2    1    0    2    5    1    3    1]\n",
            " [   0 1124    3    0    0    1    2    1    4    0]\n",
            " [   3    0 1012    2    1    0    1    5    7    1]\n",
            " [   1    1    4  967    2   19    0    6    5    5]\n",
            " [   1    0    3    0  953    0    2    1    0   22]\n",
            " [   3    0    0    4    1  872    3    0    5    4]\n",
            " [   5    1    3    1    5    3  937    0    3    0]\n",
            " [   2    2    6    1    1    0    0 1008    3    5]\n",
            " [   4    0    2    3    1    5    1    5  950    3]\n",
            " [   1    2    0    3    8    3    0    6    0  986]]\n"
          ]
        },
        {
          "data": {
            "text/plain": [
              "97.74000000000001"
            ]
          },
          "execution_count": 11,
          "metadata": {},
          "output_type": "execute_result"
        }
      ],
      "source": [
        "print(confusion_matrix(y_test,y_pred1))\n",
        "accuracy_score(y_test,y_pred1)*100"
      ]
    },
    {
      "cell_type": "code",
      "execution_count": 12,
      "metadata": {
        "colab": {
          "base_uri": "https://localhost:8080/",
          "height": 482
        },
        "id": "iHY73zpeWL4-",
        "outputId": "7f4074d4-63c2-4f54-826a-9e517b4ae35f"
      },
      "outputs": [
        {
          "name": "stdout",
          "output_type": "stream",
          "text": [
            "[7.5414377e-08 6.5630401e-10 3.5178857e-07 3.2234371e-09 9.9999684e-01\n",
            " 8.7951676e-08 1.9420071e-07 1.5991503e-06 3.9632720e-08 6.3510458e-07]\n",
            "4\n"
          ]
        },
        {
          "data": {
            "image/png": "[encoded data removed]",
            "text/plain": [
              "<Figure size 640x480 with 1 Axes>"
            ]
          },
          "metadata": {},
          "output_type": "display_data"
        }
      ],
      "source": [
        "plt.imshow(x_test[660].reshape(28,28),cmap=\"gray\")\n",
        "print(y_pred[660])\n",
        "print(y_pred1[660])"
      ]
    },
    {
      "cell_type": "code",
      "execution_count": 13,
      "metadata": {
        "colab": {
          "base_uri": "https://localhost:8080/",
          "height": 466
        },
        "id": "WUJbsew2WNy-",
        "outputId": "fecc6bc0-9450-4b78-f400-6233faf0b851"
      },
      "outputs": [
        {
          "data": {
            "text/plain": [
              "<matplotlib.legend.Legend at 0x7e86e9d167a0>"
            ]
          },
          "execution_count": 13,
          "metadata": {},
          "output_type": "execute_result"
        },
        {
          "data": {
            "image/png": "[encoded data removed]",
            "text/plain": [
              "<Figure size 640x480 with 1 Axes>"
            ]
          },
          "metadata": {},
          "output_type": "display_data"
        }
      ],
      "source": [
        "plt.plot(results.history['accuracy'], label='accuracy')\n",
        "plt.plot(results.history['val_accuracy'], label = 'val_accuracy')\n",
        "plt.xlabel('Epoch')\n",
        "plt.ylabel('Accuracy')\n",
        "#plt.ylim([0.5, 1])\n",
        "plt.legend(loc='lower right')"
      ]
    }
  ],
  "metadata": {
    "colab": {
      "authorship_tag": "ABX9TyNLeTwVjx1GNjjGBvO9ac4x",
      "include_colab_link": true,
      "provenance": []
    },
    "kernelspec": {
      "display_name": "Python 3",
      "name": "python3"
    },
    "language_info": {
      "name": "python"
    }
  },
  "nbformat": 4,
  "nbformat_minor": 0
}
